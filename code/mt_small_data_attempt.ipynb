{
 "cells": [
  {
   "cell_type": "code",
   "execution_count": 2,
   "metadata": {},
   "outputs": [],
   "source": [
    "# Imports\n",
    "import os\n",
    "import re\n",
    "import string\n",
    "import numpy as np\n",
    "from tqdm import tqdm\n",
    "\n",
    "from tensorflow.keras.preprocessing.text import Tokenizer\n",
    "from tensorflow.keras.preprocessing.sequence import pad_sequences\n",
    "from tensorflow.keras.utils import to_categorical, plot_model\n",
    "from tensorflow.keras.models import Model, load_model\n",
    "from tensorflow.keras.layers import Input, Dense, LSTM, Embedding"
   ]
  },
  {
   "cell_type": "code",
   "execution_count": 3,
   "metadata": {},
   "outputs": [],
   "source": [
    "# Load text\n",
    "root = '../../data/task2/'\n",
    "\n",
    "with open(root + 'train.en', 'r') as f:\n",
    "    train_en = f.read().split('\\n')\n",
    "    \n",
    "with open(root + 'train.hi', 'r') as f:\n",
    "    train_hi = f.read().split('\\n')\n",
    "    \n",
    "with open(root + 'dev.en', 'r') as f:\n",
    "    dev_en = f.read().split('\\n')\n",
    "    \n",
    "with open(root + 'dev.hi', 'r') as f:\n",
    "    dev_hi = f.read().split('\\n')\n",
    "    \n",
    "    \n",
    "# Select first 40_000 lines\n",
    "# Takes too long to train on larger data\n",
    "SIZE = 40_000\n",
    "train_en = train_en[:SIZE]\n",
    "train_hi = train_hi[:SIZE]\n",
    "    \n",
    "\n",
    "# Preprocess\n",
    "puncts = string.punctuation + train_hi[3][-1] # <-- Extra character is Hindi full stop\n",
    "\n",
    "def clean_text(lines, english=True):\n",
    "    clean_lines = []\n",
    "    for line in lines:\n",
    "        if english:\n",
    "            # Doesn't make sense for hindi, so ...\n",
    "            line = line.lower()\n",
    "        line = line.translate(str.maketrans('', '', puncts))\n",
    "        line = re.sub('\\d+', '', line)\n",
    "        # These tokens exist in some places in hindi text\n",
    "        # Not sure if I've removed all of them\n",
    "        line = re.sub('\\u200b', '', line)\n",
    "        line = re.sub('\\u200d', '', line)\n",
    "        \n",
    "        clean_lines.append(line)\n",
    "    return clean_lines\n",
    "\n",
    "def prepare_lines(in_lines, out_lines):\n",
    "    encoder_input, decoder_input, decoder_target = [], [], []\n",
    "    for in_line, out_line in zip(in_lines, out_lines):\n",
    "        encoder_input.append(in_line)\n",
    "        decoder_input.append('startseq ' + out_line)\n",
    "        decoder_target.append(out_line + ' endseq')\n",
    "    return encoder_input, decoder_input, decoder_target\n",
    "\n",
    "\n",
    "# Call the functions\n",
    "train_en_clean = clean_text(train_en, True)\n",
    "train_hi_clean = clean_text(train_hi, False)\n",
    "dev_en_clean = clean_text(dev_en, True)\n",
    "dev_hi_clean = clean_text(dev_hi, False)\n",
    "\n",
    "train_encoder_input, train_decoder_input, train_decoder_target = prepare_lines(train_en_clean, train_hi_clean)\n",
    "dev_encoder_input, dev_decoder_input, dev_decoder_target = prepare_lines(dev_en_clean, dev_hi_clean)\n",
    "\n",
    "# Tokenize sequences\n",
    "tokenizer_en = Tokenizer()\n",
    "tokenizer_en.fit_on_texts(train_encoder_input + dev_encoder_input)\n",
    "train_ei_seq = tokenizer_en.texts_to_sequences(train_encoder_input)\n",
    "dev_ei_seq = tokenizer_en.texts_to_sequences(dev_encoder_input)\n",
    "vocab_size_en = len(tokenizer_en.word_index) + 1\n",
    "maxlen_en = max([len(s) for s in train_ei_seq + dev_ei_seq])\n",
    "\n",
    "tokenizer_hi = Tokenizer()\n",
    "tokenizer_hi.fit_on_texts(train_decoder_input + train_decoder_target + dev_decoder_input + dev_decoder_target)\n",
    "train_di_seq = tokenizer_hi.texts_to_sequences(train_decoder_input)\n",
    "train_dt_seq = tokenizer_hi.texts_to_sequences(train_decoder_target)\n",
    "dev_di_seq = tokenizer_hi.texts_to_sequences(dev_decoder_input)\n",
    "dev_dt_seq = tokenizer_hi.texts_to_sequences(dev_decoder_target)\n",
    "vocab_size_hi = len(tokenizer_hi.word_index) + 1\n",
    "maxlen_hi = max([len(s) for s in train_di_seq + train_dt_seq + dev_di_seq + dev_dt_seq])\n",
    "\n",
    "# Pad sequences\n",
    "train_ei_seq = pad_sequences(train_ei_seq, maxlen=maxlen_en, padding='post')\n",
    "train_di_seq = pad_sequences(train_di_seq, maxlen=maxlen_hi, padding='post')\n",
    "train_dt_seq = pad_sequences(train_dt_seq, maxlen=maxlen_hi, padding='post')\n",
    "\n",
    "dev_ei_seq = pad_sequences(dev_ei_seq, maxlen=maxlen_en, padding='post')\n",
    "dev_di_seq = pad_sequences(dev_di_seq, maxlen=maxlen_hi, padding='post')\n",
    "dev_dt_seq = pad_sequences(dev_dt_seq, maxlen=maxlen_hi, padding='post')"
   ]
  },
  {
   "cell_type": "code",
   "execution_count": 4,
   "metadata": {},
   "outputs": [],
   "source": [
    "# Data generator\n",
    "def data_generator(encoder_input, decoder_input, decoder_target, out_vocab_size, batch_size):\n",
    "    enc_in, dec_in, dec_trg = [], [], []\n",
    "    count = 0\n",
    "    while True:\n",
    "        for x1, x2, y in zip(encoder_input, decoder_input, decoder_target):\n",
    "            enc_in.append(x1)\n",
    "            dec_in.append(x2)\n",
    "            dec_trg.append(to_categorical(y, num_classes=out_vocab_size))\n",
    "            count += 1\n",
    "            if count == batch_size:\n",
    "                yield ([np.array(enc_in), np.array(dec_in)], np.array(dec_trg))\n",
    "                enc_in, dec_in, dec_trg = [], [], []\n",
    "                count = 0"
   ]
  },
  {
   "cell_type": "code",
   "execution_count": 5,
   "metadata": {},
   "outputs": [],
   "source": [
    "# Building the model\n",
    "\n",
    "latent_dim = 256  # Dimension of hidden layer of LSTM\n",
    "\n",
    "# Encoder\n",
    "# Will generate the starting hidden state (h and c) for the decoder \n",
    "encoder_input = Input(shape=(maxlen_en,))\n",
    "encoder_embedding = Embedding(vocab_size_en, latent_dim, input_length=maxlen_en, mask_zero=True)(encoder_input)\n",
    "_, encoder_state_h, encoder_state_c = LSTM(latent_dim, return_state=True)(encoder_embedding)\n",
    "encoder_states = [encoder_state_h, encoder_state_c]\n",
    "# Shape (1, 256) each\n",
    "\n",
    "# Decoder\n",
    "# Initialized with hidden state from encoder\n",
    "# Input is token at timestep t and target is token at timestep t+1 ...\n",
    "# ... until end token or maximum length is reached\n",
    "decoder_input = Input(shape=(maxlen_hi,))\n",
    "decoder_embedding = Embedding(vocab_size_hi, latent_dim, input_length=maxlen_hi, mask_zero=True)(decoder_input)\n",
    "decoder_lstm = LSTM(latent_dim, return_state=True, return_sequences=True)\n",
    "decoder_output, _, _ = decoder_lstm(decoder_embedding, initial_state=encoder_states)\n",
    "# Shape of output -> (batch_size, output_timesteps, output_vocab_size)\n",
    "\n",
    "# Dense layer to generate softmax probabilities for each token in output vocabulary\n",
    "decoder_dense = Dense(vocab_size_hi, activation='softmax')\n",
    "decoder_output = decoder_dense(decoder_output)\n",
    "\n",
    "model = Model([encoder_input, decoder_input], decoder_output)\n",
    "model.compile(loss='categorical_crossentropy', optimizer='adam')"
   ]
  },
  {
   "cell_type": "code",
   "execution_count": 81,
   "metadata": {},
   "outputs": [
    {
     "name": "stdout",
     "output_type": "stream",
     "text": [
      "Model: \"model_3\"\n",
      "__________________________________________________________________________________________________\n",
      "Layer (type)                    Output Shape         Param #     Connected to                     \n",
      "==================================================================================================\n",
      "input_27 (InputLayer)           [(None, 40)]         0                                            \n",
      "__________________________________________________________________________________________________\n",
      "input_28 (InputLayer)           [(None, 38)]         0                                            \n",
      "__________________________________________________________________________________________________\n",
      "embedding_17 (Embedding)        (None, 40, 256)      1950208     input_27[0][0]                   \n",
      "__________________________________________________________________________________________________\n",
      "embedding_18 (Embedding)        (None, 38, 256)      2173696     input_28[0][0]                   \n",
      "__________________________________________________________________________________________________\n",
      "lstm_24 (LSTM)                  [(None, 256), (None, 525312      embedding_17[0][0]               \n",
      "__________________________________________________________________________________________________\n",
      "lstm_25 (LSTM)                  [(None, 38, 256), (N 525312      embedding_18[0][0]               \n",
      "                                                                 lstm_24[0][1]                    \n",
      "                                                                 lstm_24[0][2]                    \n",
      "__________________________________________________________________________________________________\n",
      "dense_2 (Dense)                 (None, 38, 8491)     2182187     lstm_25[0][0]                    \n",
      "==================================================================================================\n",
      "Total params: 7,356,715\n",
      "Trainable params: 7,356,715\n",
      "Non-trainable params: 0\n",
      "__________________________________________________________________________________________________\n"
     ]
    }
   ],
   "source": [
    "model.summary()"
   ]
  },
  {
   "cell_type": "code",
   "execution_count": 70,
   "metadata": {},
   "outputs": [
    {
     "data": {
      "image/png": "[encoded data removed]",
      "text/plain": [
       "<IPython.core.display.Image object>"
      ]
     },
     "execution_count": 70,
     "metadata": {},
     "output_type": "execute_result"
    }
   ],
   "source": [
    "plot_model(model, show_shapes=True)"
   ]
  },
  {
   "cell_type": "code",
   "execution_count": 78,
   "metadata": {
    "scrolled": true
   },
   "outputs": [
    {
     "name": "stderr",
     "output_type": "stream",
     "text": [
      "\n",
      "  0%|          | 0/20 [00:00<?, ?it/s]\u001b[A"
     ]
    },
    {
     "name": "stdout",
     "output_type": "stream",
     "text": [
      "1000/1000 [==============================] - 287s 287ms/step - loss: 1.1346\n"
     ]
    },
    {
     "name": "stderr",
     "output_type": "stream",
     "text": [
      "\n",
      "  5%|▌         | 1/20 [04:48<1:31:23, 288.61s/it]\u001b[A"
     ]
    },
    {
     "name": "stdout",
     "output_type": "stream",
     "text": [
      "1000/1000 [==============================] - 277s 277ms/step - loss: 0.9754\n"
     ]
    },
    {
     "name": "stderr",
     "output_type": "stream",
     "text": [
      "\n",
      " 10%|█         | 2/20 [09:27<1:25:39, 285.55s/it]\u001b[A"
     ]
    },
    {
     "name": "stdout",
     "output_type": "stream",
     "text": [
      "1000/1000 [==============================] - 272s 272ms/step - loss: 0.8641\n"
     ]
    },
    {
     "name": "stderr",
     "output_type": "stream",
     "text": [
      "\n",
      " 15%|█▌        | 3/20 [14:00<1:19:50, 281.80s/it]\u001b[A"
     ]
    },
    {
     "name": "stdout",
     "output_type": "stream",
     "text": [
      "1000/1000 [==============================] - 270s 270ms/step - loss: 0.7601\n"
     ]
    },
    {
     "name": "stderr",
     "output_type": "stream",
     "text": [
      "\n",
      " 20%|██        | 4/20 [18:31<1:14:19, 278.72s/it]\u001b[A"
     ]
    },
    {
     "name": "stdout",
     "output_type": "stream",
     "text": [
      "1000/1000 [==============================] - 268s 268ms/step - loss: 0.6645\n"
     ]
    },
    {
     "name": "stderr",
     "output_type": "stream",
     "text": [
      "\n",
      " 25%|██▌       | 5/20 [23:00<1:08:56, 275.79s/it]\u001b[A"
     ]
    },
    {
     "name": "stdout",
     "output_type": "stream",
     "text": [
      "1000/1000 [==============================] - 267s 267ms/step - loss: 0.5757\n"
     ]
    },
    {
     "name": "stderr",
     "output_type": "stream",
     "text": [
      "\n",
      " 30%|███       | 6/20 [27:28<1:03:46, 273.34s/it]\u001b[A"
     ]
    },
    {
     "name": "stdout",
     "output_type": "stream",
     "text": [
      "1000/1000 [==============================] - 266s 266ms/step - loss: 0.4958\n"
     ]
    },
    {
     "name": "stderr",
     "output_type": "stream",
     "text": [
      "\n",
      " 35%|███▌      | 7/20 [31:55<58:50, 271.55s/it]  \u001b[A"
     ]
    },
    {
     "name": "stdout",
     "output_type": "stream",
     "text": [
      "1000/1000 [==============================] - 278s 278ms/step - loss: 0.4253\n"
     ]
    },
    {
     "name": "stderr",
     "output_type": "stream",
     "text": [
      "\n",
      " 40%|████      | 8/20 [36:34<54:44, 273.67s/it]\u001b[A"
     ]
    },
    {
     "name": "stdout",
     "output_type": "stream",
     "text": [
      "1000/1000 [==============================] - 273s 273ms/step - loss: 0.3642\n"
     ]
    },
    {
     "name": "stderr",
     "output_type": "stream",
     "text": [
      "\n",
      " 45%|████▌     | 9/20 [41:07<50:10, 273.68s/it]\u001b[A"
     ]
    },
    {
     "name": "stdout",
     "output_type": "stream",
     "text": [
      "1000/1000 [==============================] - 275s 275ms/step - loss: 0.3111\n"
     ]
    },
    {
     "name": "stderr",
     "output_type": "stream",
     "text": [
      "\n",
      " 50%|█████     | 10/20 [45:43<45:43, 274.31s/it]\u001b[A"
     ]
    },
    {
     "name": "stdout",
     "output_type": "stream",
     "text": [
      "1000/1000 [==============================] - 274s 274ms/step - loss: 0.2638\n"
     ]
    },
    {
     "name": "stderr",
     "output_type": "stream",
     "text": [
      "\n",
      " 55%|█████▌    | 11/20 [50:18<41:11, 274.56s/it]\u001b[A"
     ]
    },
    {
     "name": "stdout",
     "output_type": "stream",
     "text": [
      "1000/1000 [==============================] - 273s 273ms/step - loss: 0.2236\n"
     ]
    },
    {
     "name": "stderr",
     "output_type": "stream",
     "text": [
      "\n",
      " 60%|██████    | 12/20 [54:52<36:34, 274.27s/it]\u001b[A"
     ]
    },
    {
     "name": "stdout",
     "output_type": "stream",
     "text": [
      "1000/1000 [==============================] - 272s 272ms/step - loss: 0.1884\n"
     ]
    },
    {
     "name": "stderr",
     "output_type": "stream",
     "text": [
      "\n",
      " 65%|██████▌   | 13/20 [59:25<31:56, 273.83s/it]\u001b[A"
     ]
    },
    {
     "name": "stdout",
     "output_type": "stream",
     "text": [
      "1000/1000 [==============================] - 273s 273ms/step - loss: 0.1587\n"
     ]
    },
    {
     "name": "stderr",
     "output_type": "stream",
     "text": [
      "\n",
      " 70%|███████   | 14/20 [1:03:59<27:23, 273.84s/it]\u001b[A"
     ]
    },
    {
     "name": "stdout",
     "output_type": "stream",
     "text": [
      "1000/1000 [==============================] - 271s 271ms/step - loss: 0.1318\n"
     ]
    },
    {
     "name": "stderr",
     "output_type": "stream",
     "text": [
      "\n",
      " 75%|███████▌  | 15/20 [1:08:31<22:46, 273.36s/it]\u001b[A"
     ]
    },
    {
     "name": "stdout",
     "output_type": "stream",
     "text": [
      "1000/1000 [==============================] - 271s 271ms/step - loss: 0.1096\n"
     ]
    },
    {
     "name": "stderr",
     "output_type": "stream",
     "text": [
      "\n",
      " 80%|████████  | 16/20 [1:13:03<18:11, 272.91s/it]\u001b[A"
     ]
    },
    {
     "name": "stdout",
     "output_type": "stream",
     "text": [
      "1000/1000 [==============================] - 272s 272ms/step - loss: 0.0918\n"
     ]
    },
    {
     "name": "stderr",
     "output_type": "stream",
     "text": [
      "\n",
      " 85%|████████▌ | 17/20 [1:17:35<13:38, 272.85s/it]\u001b[A"
     ]
    },
    {
     "name": "stdout",
     "output_type": "stream",
     "text": [
      "1000/1000 [==============================] - 271s 271ms/step - loss: 0.0779\n"
     ]
    },
    {
     "name": "stderr",
     "output_type": "stream",
     "text": [
      "\n",
      " 90%|█████████ | 18/20 [1:22:08<09:05, 272.72s/it]\u001b[A"
     ]
    },
    {
     "name": "stdout",
     "output_type": "stream",
     "text": [
      "1000/1000 [==============================] - 265s 265ms/step - loss: 0.0640\n"
     ]
    },
    {
     "name": "stderr",
     "output_type": "stream",
     "text": [
      "\n",
      " 95%|█████████▌| 19/20 [1:26:34<04:30, 270.63s/it]\u001b[A"
     ]
    },
    {
     "name": "stdout",
     "output_type": "stream",
     "text": [
      "1000/1000 [==============================] - 264s 264ms/step - loss: 0.0532\n"
     ]
    },
    {
     "name": "stderr",
     "output_type": "stream",
     "text": [
      "\n",
      "100%|██████████| 20/20 [1:30:59<00:00, 272.96s/it]\u001b[A\n"
     ]
    }
   ],
   "source": [
    "# Training the model\n",
    "\n",
    "epochs = 20\n",
    "batch_size = 10\n",
    "steps = len(train_ei_seq) // batch_size\n",
    "save_root = '../../data/task2/checkpoints/'\n",
    "\n",
    "for epoch in tqdm(range(epochs)):\n",
    "    datagen = data_generator(train_ei_seq, train_di_seq, train_dt_seq, vocab_size_hi, batch_size)\n",
    "    model.fit_generator(datagen, epochs=1, steps_per_epoch=steps, verbose=1)\n",
    "    model.save(save_root + f'machine_translation_{epoch}.h5')"
   ]
  },
  {
   "cell_type": "markdown",
   "metadata": {},
   "source": [
    "# Prediction"
   ]
  },
  {
   "cell_type": "code",
   "execution_count": 6,
   "metadata": {},
   "outputs": [],
   "source": [
    "# Load pretrained model\n",
    "# Model was trained on Google Colab with GPU\n",
    "\n",
    "ckpt_path = '../../data/task2/checkpoints/'\n",
    "model = load_model(ckpt_path + 'machine_translation_19.h5')"
   ]
  },
  {
   "cell_type": "code",
   "execution_count": 41,
   "metadata": {},
   "outputs": [
    {
     "name": "stdout",
     "output_type": "stream",
     "text": [
      "Model: \"model_3\"\n",
      "__________________________________________________________________________________________________\n",
      "Layer (type)                    Output Shape         Param #     Connected to                     \n",
      "==================================================================================================\n",
      "input_7 (InputLayer)            [(None, 54)]         0                                            \n",
      "__________________________________________________________________________________________________\n",
      "input_8 (InputLayer)            [(None, 51)]         0                                            \n",
      "__________________________________________________________________________________________________\n",
      "embedding_6 (Embedding)         (None, 54, 256)      3814912     input_7[0][0]                    \n",
      "__________________________________________________________________________________________________\n",
      "embedding_7 (Embedding)         (None, 51, 256)      4377856     input_8[0][0]                    \n",
      "__________________________________________________________________________________________________\n",
      "lstm_6 (LSTM)                   [(None, 256), (None, 525312      embedding_6[0][0]                \n",
      "__________________________________________________________________________________________________\n",
      "lstm_7 (LSTM)                   [(None, 51, 256), (N 525312      embedding_7[0][0]                \n",
      "                                                                 lstm_6[0][1]                     \n",
      "                                                                 lstm_6[0][2]                     \n",
      "__________________________________________________________________________________________________\n",
      "dense_3 (Dense)                 (None, 51, 17101)    4394957     lstm_7[0][0]                     \n",
      "==================================================================================================\n",
      "Total params: 13,638,349\n",
      "Trainable params: 13,638,349\n",
      "Non-trainable params: 0\n",
      "__________________________________________________________________________________________________\n"
     ]
    }
   ],
   "source": [
    "model.summary()"
   ]
  },
  {
   "cell_type": "code",
   "execution_count": 40,
   "metadata": {},
   "outputs": [
    {
     "name": "stdout",
     "output_type": "stream",
     "text": [
      "Model: \"model_6\"\n",
      "__________________________________________________________________________________________________\n",
      "Layer (type)                    Output Shape         Param #     Connected to                     \n",
      "==================================================================================================\n",
      "input_2 (InputLayer)            [(None, 51)]         0                                            \n",
      "__________________________________________________________________________________________________\n",
      "embedding_4 (Embedding)         (None, 51, 256)      4377856     input_2[0][0]                    \n",
      "__________________________________________________________________________________________________\n",
      "input_7 (InputLayer)            [(None, 256)]        0                                            \n",
      "__________________________________________________________________________________________________\n",
      "input_8 (InputLayer)            [(None, 256)]        0                                            \n",
      "__________________________________________________________________________________________________\n",
      "lstm_1 (LSTM)                   [(None, 51, 256), (N 525312      embedding_4[0][0]                \n",
      "                                                                 input_7[0][0]                    \n",
      "                                                                 input_8[0][0]                    \n",
      "__________________________________________________________________________________________________\n",
      "dense (Dense)                   (None, 51, 17101)    4394957     lstm_1[3][0]                     \n",
      "==================================================================================================\n",
      "Total params: 9,298,125\n",
      "Trainable params: 9,298,125\n",
      "Non-trainable params: 0\n",
      "__________________________________________________________________________________________________\n"
     ]
    }
   ],
   "source": [
    "decoder_model.summary()"
   ]
  },
  {
   "cell_type": "code",
   "execution_count": 51,
   "metadata": {},
   "outputs": [],
   "source": [
    "# Prediction model\n",
    "\n",
    "# Generate starting h and c for input sequence\n",
    "# Same weights from trained model\n",
    "encoder_model = Model(encoder_input, encoder_states)\n",
    "\n",
    "# Inputs are hidden state from encoder model\n",
    "decoder_state_input_h = Input(shape=(latent_dim,))\n",
    "decoder_state_input_c = Input(shape=(latent_dim,))\n",
    "decoder_states_inputs = [decoder_state_input_h, decoder_state_input_c]\n",
    "\n",
    "# Take in an input token (padded), generate embedding ...\n",
    "# ... predict output sequence and hidden states\n",
    "# Next token in output sequence is the input and ...\n",
    "# ... hidden states are previous hidden states from decoder LSTM \n",
    "decoder_embed = Embedding(vocab_size_hi, latent_dim, input_length=maxlen_hi, mask_zero=True)(decoder_input) \n",
    "decoder_output, state_h, state_c = decoder_lstm(decoder_embed, initial_state=decoder_states_inputs)\n",
    "decoder_states = [state_h, state_c]\n",
    "decoder_output = decoder_dense(decoder_output)\n",
    "\n",
    "decoder_model = Model(\n",
    "    [decoder_input] + decoder_states_inputs,\n",
    "    [decoder_output] + decoder_states\n",
    ")\n",
    "\n",
    "# If loading pretrained model (name = model) \n",
    "# Use these parts to set weights of prediction model\n",
    "# If using immediately after training the model, comment this part out\n",
    "encoder_model.layers[1].set_weights(model.layers[2].get_weights())\n",
    "encoder_model.layers[2].set_weights(model.layers[4].get_weights())\n",
    "\n",
    "decoder_model.layers[1].set_weights(model.layers[3].get_weights())\n",
    "decoder_model.layers[-2].set_weights(model.layers[-2].get_weights())\n",
    "decoder_model.layers[-1].set_weights(model.layers[-1].get_weights())"
   ]
  },
  {
   "cell_type": "code",
   "execution_count": 36,
   "metadata": {},
   "outputs": [],
   "source": [
    "# Index to word decoder dictionaries\n",
    "# Generate by reversing tokenizer word_index\n",
    "\n",
    "idx2word_en = {i: word for word, i in tokenizer_en.word_index.items()}\n",
    "idx2word_hi = {i: word for word, i in tokenizer_hi.word_index.items()}"
   ]
  },
  {
   "cell_type": "code",
   "execution_count": 37,
   "metadata": {},
   "outputs": [],
   "source": [
    "# Decoding functions\n",
    "\n",
    "def decode_sequence(input_seq):\n",
    "    encoder_states = encoder_model(input_seq)\n",
    "    target_seq = np.zeros((1, 1))\n",
    "    target_seq[0, 0] = tokenizer_hi.word_index['startseq']\n",
    "    \n",
    "    stop_condition = False\n",
    "    words = []\n",
    "    while not stop_condition:\n",
    "        # Get the sequence of outputs and hidden states\n",
    "        output_tokens, h, c = decoder_model.predict([target_seq] + encoder_states)\n",
    "        # Maximum probability index as prediction\n",
    "        pred = np.argmax(output_tokens[0, -1, :])\n",
    "        # Find the correct word and append it in list of words\n",
    "        word = idx2word_hi[pred]\n",
    "        words.append(word)\n",
    "        \n",
    "        # If end token encountered or maximum length reached, break \n",
    "        if word == 'endseq' or len(words) == maxlen_hi:\n",
    "            stop_condition = True\n",
    "        \n",
    "        # Next input is current prediction\n",
    "        # Next hidden states are hidden states of this prediction\n",
    "        target_seq[0, 0] = pred\n",
    "        encoder_states = [h, c]\n",
    "    \n",
    "    return ' '.join(words[:-1])"
   ]
  },
  {
   "cell_type": "code",
   "execution_count": 38,
   "metadata": {},
   "outputs": [],
   "source": [
    "def test_model(dev_seq, dev_sentences, num_samples):\n",
    "    \n",
    "    \"\"\"\n",
    "    Randomly chooses num_samples number of sentences from \n",
    "    development set and translates.\n",
    "    \"\"\"\n",
    "    \n",
    "    idx = np.random.choice(np.arange(0, len(dev_seq)), size=num_samples, replace=False)\n",
    "    in_seq = dev_seq[idx]\n",
    "    in_sentences = np.array(dev_sentences)[idx].tolist()\n",
    "    \n",
    "    for seq, eng_sentence in zip(in_seq, in_sentences):\n",
    "        translation = decode_sequence(seq.reshape(1, -1))\n",
    "        print(\"[ENGLISH] \\t {}\".format(eng_sentence))\n",
    "        print(\"[HINDI] \\t {}\".format(translation))\n",
    "        print(\"\\n------------------------------------------------\\n\")"
   ]
  },
  {
   "cell_type": "code",
   "execution_count": 50,
   "metadata": {
    "scrolled": false
   },
   "outputs": [
    {
     "name": "stdout",
     "output_type": "stream",
     "text": [
      "[ENGLISH] \t why dont you start right now and get the fuck out of here\n",
      "[HINDI] \t चोटी कार में जाओ लेकिन मैं कैसे एक चुंबन शुभरात्रि दे\n",
      "\n",
      "------------------------------------------------\n",
      "\n",
      "[ENGLISH] \t nasas eos satellites pinged the anomaly first the ice shelf plays hell on the echo soundings\n",
      "[HINDI] \t ताजा केले के रूप में ज्ञान लाइन में जाग रहा है कल्पना की ओर\n",
      "\n",
      "------------------------------------------------\n",
      "\n",
      "[ENGLISH] \t after  days of sleep sounds like youre ready to go\n",
      "[HINDI] \t कई साल प्राणी बनाई है साइकिल जो वे तारकोल से दबा अगर\n",
      "\n",
      "------------------------------------------------\n",
      "\n",
      "[ENGLISH] \t eightythousand people on their feet watching this ball sail through the air\n",
      "[HINDI] \t बैठक ग्रह जब हमारे लक्ष्य नेता जो से कोई बदलाव ले सकता है\n",
      "\n",
      "------------------------------------------------\n",
      "\n",
      "[ENGLISH] \t next time they shine your light in the sky dont go to it\n",
      "[HINDI] \t वे अपनी बंदूकें डेटा बेचने अपनी उंगलियों पर अपने काम करते हैं\n",
      "\n",
      "------------------------------------------------\n",
      "\n"
     ]
    }
   ],
   "source": [
    "test_model(dev_ei_seq, dev_en_clean, num_samples=5)"
   ]
  },
  {
   "cell_type": "code",
   "execution_count": null,
   "metadata": {},
   "outputs": [],
   "source": []
  }
 ],
 "metadata": {
  "kernelspec": {
   "display_name": "Python 3",
   "language": "python",
   "name": "python3"
  },
  "language_info": {
   "codemirror_mode": {
    "name": "ipython",
    "version": 3
   },
   "file_extension": ".py",
   "mimetype": "text/x-python",
   "name": "python",
   "nbconvert_exporter": "python",
   "pygments_lexer": "ipython3",
   "version": "3.6.9"
  }
 },
 "nbformat": 4,
 "nbformat_minor": 2
}
